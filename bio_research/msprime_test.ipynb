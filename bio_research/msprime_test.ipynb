{
 "cells": [
  {
   "cell_type": "code",
   "execution_count": 15,
   "metadata": {},
   "outputs": [],
   "source": [
    "import msprime\n",
    "from IPython.display import SVG, set_matplotlib_formats\n",
    "#from matplotlib import pyplot as plt \n",
    "import numpy as np\n"
   ]
  },
  {
   "cell_type": "code",
   "execution_count": 39,
   "metadata": {},
   "outputs": [
    {
     "data": {
      "image/svg+xml": "<svg xmlns=\"http://www.w3.org/2000/svg\" xmlns:ev=\"http://www.w3.org/2001/xml-events\" xmlns:xlink=\"http://www.w3.org/1999/xlink\" baseProfile=\"full\" height=\"200\" version=\"1.1\" width=\"1400\"><defs><style type=\"text/css\"><![CDATA[.background path {fill: #808080; fill-opacity: 0}.background path:nth-child(odd) {fill-opacity: .1}.axes {font-size: 14px}.x-axis .tick .lab {font-weight: bold; dominant-baseline: hanging}.axes, .tree {font-size: 14px; text-anchor: middle}.axes line, .edge {stroke: black; fill: none}.y-axis .grid {stroke: #FAFAFA}.node > .sym {fill: black; stroke: none}.site > .sym {stroke: black}.mut text {fill: red; font-style: italic}.mut.extra text {fill: hotpink}.mut line {fill: none; stroke: none}.mut .sym {fill: none; stroke: red}.mut.extra .sym {stroke: hotpink}.node .mut .sym {stroke-width: 1.5px}.tree text, .tree-sequence text {dominant-baseline: central}.plotbox .lab.lft {text-anchor: end}.plotbox .lab.rgt {text-anchor: start}]]></style></defs><g class=\"tree-sequence\"><g class=\"background\"><path d=\"M56.8,0 l189.029,0 l0,138.2 l170.458,25 l0,5 l-359.487,0 l0,-5 l0,-25 l0,-138.2z\"/><path d=\"M245.829,0 l189.029,0 l0,138.2 l131.348,25 l0,5 l-149.919,0 l0,-5 l-170.458,-25 l0,-138.2z\"/><path d=\"M434.857,0 l189.029,0 l0,138.2 l116.374,25 l0,5 l-174.054,0 l0,-5 l-131.348,-25 l0,-138.2z\"/><path d=\"M623.886,0 l189.029,0 l0,138.2 l86.3539,25 l0,5 l-159.009,0 l0,-5 l-116.374,-25 l0,-138.2z\"/><path d=\"M812.914,0 l189.029,0 l0,138.2 l-13.6365,25 l0,5 l-89.0381,0 l0,-5 l-86.3539,-25 l0,-138.2z\"/><path d=\"M1001.94,0 l189.029,0 l0,138.2 l-169.506,25 l0,5 l-33.1594,0 l0,-5 l13.6365,-25 l0,-138.2z\"/><path d=\"M1190.97,0 l189.029,0 l0,138.2 l0,25 l0,5 l-358.534,0 l0,-5 l169.506,-25 l0,-138.2z\"/></g><g class=\"axes\"><g class=\"x-axis\"><g transform=\"translate(718.4,200)\"><text class=\"lab\" text-anchor=\"middle\" transform=\"translate(0 -11)\">Genome position</text></g><line x1=\"56.8\" x2=\"1380\" y1=\"163.2\" y2=\"163.2\"/><g class=\"ticks\"><g class=\"tick\" transform=\"translate(56.8 163.2)\"><line x1=\"0\" x2=\"0\" y1=\"0\" y2=\"5\"/><g transform=\"translate(0,6)\"><text class=\"lab\">0</text></g></g><g class=\"tick\" transform=\"translate(416.287 163.2)\"><line x1=\"0\" x2=\"0\" y1=\"0\" y2=\"5\"/><g transform=\"translate(0,6)\"><text class=\"lab\">27168</text></g></g><g class=\"tick\" transform=\"translate(566.206 163.2)\"><line x1=\"0\" x2=\"0\" y1=\"0\" y2=\"5\"/><g transform=\"translate(0,6)\"><text class=\"lab\">38498</text></g></g><g class=\"tick\" transform=\"translate(740.259 163.2)\"><line x1=\"0\" x2=\"0\" y1=\"0\" y2=\"5\"/><g transform=\"translate(0,6)\"><text class=\"lab\">51652</text></g></g><g class=\"tick\" transform=\"translate(899.268 163.2)\"><line x1=\"0\" x2=\"0\" y1=\"0\" y2=\"5\"/><g transform=\"translate(0,6)\"><text class=\"lab\">63669</text></g></g><g class=\"tick\" transform=\"translate(988.306 163.2)\"><line x1=\"0\" x2=\"0\" y1=\"0\" y2=\"5\"/><g transform=\"translate(0,6)\"><text class=\"lab\">70398</text></g></g><g class=\"tick\" transform=\"translate(1021.47 163.2)\"><line x1=\"0\" x2=\"0\" y1=\"0\" y2=\"5\"/><g transform=\"translate(0,6)\"><text class=\"lab\">72904</text></g></g><g class=\"tick\" transform=\"translate(1380 163.2)\"><line x1=\"0\" x2=\"0\" y1=\"0\" y2=\"5\"/><g transform=\"translate(0,6)\"><text class=\"lab\">100000</text></g></g></g></g><g class=\"y-axis\"><g transform=\"translate(0,65.7)\"><text class=\"lab\" text-anchor=\"middle\" transform=\"translate(11) rotate(-90)\">Time</text></g><line x1=\"56.8\" x2=\"56.8\" y1=\"121.4\" y2=\"10\"/><g class=\"ticks\"><g class=\"tick\" transform=\"translate(56.8 121.4)\"><line x1=\"0\" x2=\"-5\" y1=\"0\" y2=\"0\"/><g transform=\"translate(-6,0)\"><text class=\"lab\" text-anchor=\"end\">0.00</text></g></g><g class=\"tick\" transform=\"translate(56.8 117.092)\"><line x1=\"0\" x2=\"-5\" y1=\"0\" y2=\"0\"/><g transform=\"translate(-6,0)\"><text class=\"lab\" text-anchor=\"end\">87.92</text></g></g><g class=\"tick\" transform=\"translate(56.8 107.184)\"><line x1=\"0\" x2=\"-5\" y1=\"0\" y2=\"0\"/><g transform=\"translate(-6,0)\"><text class=\"lab\" text-anchor=\"end\">290.17</text></g></g><g class=\"tick\" transform=\"translate(56.8 98.2421)\"><line x1=\"0\" x2=\"-5\" y1=\"0\" y2=\"0\"/><g transform=\"translate(-6,0)\"><text class=\"lab\" text-anchor=\"end\">472.69</text></g></g><g class=\"tick\" transform=\"translate(56.8 93.4973)\"><line x1=\"0\" x2=\"-5\" y1=\"0\" y2=\"0\"/><g transform=\"translate(-6,0)\"><text class=\"lab\" text-anchor=\"end\">569.54</text></g></g><g class=\"tick\" transform=\"translate(56.8 82.9991)\"><line x1=\"0\" x2=\"-5\" y1=\"0\" y2=\"0\"/><g transform=\"translate(-6,0)\"><text class=\"lab\" text-anchor=\"end\">783.82</text></g></g><g class=\"tick\" transform=\"translate(56.8 50.5527)\"><line x1=\"0\" x2=\"-5\" y1=\"0\" y2=\"0\"/><g transform=\"translate(-6,0)\"><text class=\"lab\" text-anchor=\"end\">1446.11</text></g></g><g class=\"tick\" transform=\"translate(56.8 46.7088)\"><line x1=\"0\" x2=\"-5\" y1=\"0\" y2=\"0\"/><g transform=\"translate(-6,0)\"><text class=\"lab\" text-anchor=\"end\">1524.57</text></g></g><g class=\"tick\" transform=\"translate(56.8 28.8835)\"><line x1=\"0\" x2=\"-5\" y1=\"0\" y2=\"0\"/><g transform=\"translate(-6,0)\"><text class=\"lab\" text-anchor=\"end\">1888.41</text></g></g><g class=\"tick\" transform=\"translate(56.8 26.8)\"><line x1=\"0\" x2=\"-5\" y1=\"0\" y2=\"0\"/><g transform=\"translate(-6,0)\"><text class=\"lab\" text-anchor=\"end\">1930.94</text></g></g></g></g></g><g class=\"plotbox trees\"><g class=\"tree t0\" transform=\"translate(56.8 0)\"><g class=\"plotbox\"><g class=\"c2 node n11 p0 root\" transform=\"translate(94.5143 28.8835)\"><g class=\"a11 c2 node n5 p0\" transform=\"translate(-37.2571 78.3006)\"><g class=\"a5 i0 leaf node n0 p0 sample\" transform=\"translate(-18.6286 14.2159)\"><path class=\"edge\" d=\"M 0 0 V -14.2159 H 18.6286\"/><rect class=\"sym\" height=\"6\" width=\"6\" x=\"-3\" y=\"-3\"/><text class=\"lab\" transform=\"translate(0 11)\">0</text></g><g class=\"a5 i1 leaf node n2 p0 sample\" transform=\"translate(18.6286 14.2159)\"><path class=\"edge\" d=\"M 0 0 V -14.2159 H -18.6286\"/><rect class=\"sym\" height=\"6\" width=\"6\" x=\"-3\" y=\"-3\"/><text class=\"lab\" transform=\"translate(0 11)\">2</text></g><path class=\"edge\" d=\"M 0 0 V -78.3006 H 37.2571\"/><circle class=\"sym\" cx=\"0\" cy=\"0\" r=\"3\"/><text class=\"lab lft\" transform=\"translate(-3 -7.0)\">5</text></g><g class=\"a11 c2 node n6 p0\" transform=\"translate(37.2571 69.3586)\"><g class=\"a6 i0 leaf node n1 p0 sample\" transform=\"translate(-18.6286 23.1579)\"><path class=\"edge\" d=\"M 0 0 V -23.1579 H 18.6286\"/><rect class=\"sym\" height=\"6\" width=\"6\" x=\"-3\" y=\"-3\"/><text class=\"lab\" transform=\"translate(0 11)\">1</text></g><g class=\"a6 i1 leaf node n3 p0 sample\" transform=\"translate(18.6286 23.1579)\"><path class=\"edge\" d=\"M 0 0 V -23.1579 H -18.6286\"/><rect class=\"sym\" height=\"6\" width=\"6\" x=\"-3\" y=\"-3\"/><text class=\"lab\" transform=\"translate(0 11)\">3</text></g><path class=\"edge\" d=\"M 0 0 V -69.3586 H -37.2571\"/><circle class=\"sym\" cx=\"0\" cy=\"0\" r=\"3\"/><text class=\"lab rgt\" transform=\"translate(3 -7.0)\">6</text></g><circle class=\"sym\" cx=\"0\" cy=\"0\" r=\"3\"/><text class=\"lab\" transform=\"translate(0 -11)\">11</text></g></g></g><g class=\"tree t1\" transform=\"translate(245.829 0)\"><g class=\"plotbox\"><g class=\"c2 node n8 p0 root\" transform=\"translate(94.5143 82.9991)\"><g class=\"a8 c2 node n5 p0\" transform=\"translate(-37.2571 24.185)\"><g class=\"a5 i0 leaf node n0 p0 sample\" transform=\"translate(-18.6286 14.2159)\"><path class=\"edge\" d=\"M 0 0 V -14.2159 H 18.6286\"/><rect class=\"sym\" height=\"6\" width=\"6\" x=\"-3\" y=\"-3\"/><text class=\"lab\" transform=\"translate(0 11)\">0</text></g><g class=\"a5 i1 leaf node n2 p0 sample\" transform=\"translate(18.6286 14.2159)\"><path class=\"edge\" d=\"M 0 0 V -14.2159 H -18.6286\"/><rect class=\"sym\" height=\"6\" width=\"6\" x=\"-3\" y=\"-3\"/><text class=\"lab\" transform=\"translate(0 11)\">2</text></g><path class=\"edge\" d=\"M 0 0 V -24.185 H 37.2571\"/><circle class=\"sym\" cx=\"0\" cy=\"0\" r=\"3\"/><text class=\"lab lft\" transform=\"translate(-3 -7.0)\">5</text></g><g class=\"a8 c2 node n6 p0\" transform=\"translate(37.2571 15.2431)\"><g class=\"a6 i0 leaf node n1 p0 sample\" transform=\"translate(-18.6286 23.1579)\"><path class=\"edge\" d=\"M 0 0 V -23.1579 H 18.6286\"/><rect class=\"sym\" height=\"6\" width=\"6\" x=\"-3\" y=\"-3\"/><text class=\"lab\" transform=\"translate(0 11)\">1</text></g><g class=\"a6 i1 leaf node n3 p0 sample\" transform=\"translate(18.6286 23.1579)\"><path class=\"edge\" d=\"M 0 0 V -23.1579 H -18.6286\"/><rect class=\"sym\" height=\"6\" width=\"6\" x=\"-3\" y=\"-3\"/><text class=\"lab\" transform=\"translate(0 11)\">3</text></g><path class=\"edge\" d=\"M 0 0 V -15.2431 H -37.2571\"/><circle class=\"sym\" cx=\"0\" cy=\"0\" r=\"3\"/><text class=\"lab rgt\" transform=\"translate(3 -7.0)\">6</text></g><circle class=\"sym\" cx=\"0\" cy=\"0\" r=\"3\"/><text class=\"lab\" transform=\"translate(0 -11)\">8</text></g></g></g><g class=\"tree t2\" transform=\"translate(434.857 0)\"><g class=\"plotbox\"><g class=\"c2 node n8 p0 root\" transform=\"translate(108.486 82.9991)\"><g class=\"a8 i1 leaf node n2 p0 sample\" transform=\"translate(41.9143 38.4009)\"><path class=\"edge\" d=\"M 0 0 V -38.4009 H -41.9143\"/><rect class=\"sym\" height=\"6\" width=\"6\" x=\"-3\" y=\"-3\"/><text class=\"lab\" transform=\"translate(0 11)\">2</text></g><g class=\"a8 c2 node n7 p0\" transform=\"translate(-41.9143 10.4983)\"><g class=\"a7 i0 leaf node n0 p0 sample\" transform=\"translate(-27.9429 27.9027)\"><path class=\"edge\" d=\"M 0 0 V -27.9027 H 27.9429\"/><rect class=\"sym\" height=\"6\" width=\"6\" x=\"-3\" y=\"-3\"/><text class=\"lab\" transform=\"translate(0 11)\">0</text></g><g class=\"a7 c2 node n6 p0\" transform=\"translate(27.9429 4.7448)\"><g class=\"a6 i0 leaf node n1 p0 sample\" transform=\"translate(-18.6286 23.1579)\"><path class=\"edge\" d=\"M 0 0 V -23.1579 H 18.6286\"/><rect class=\"sym\" height=\"6\" width=\"6\" x=\"-3\" y=\"-3\"/><text class=\"lab\" transform=\"translate(0 11)\">1</text></g><g class=\"a6 i1 leaf node n3 p0 sample\" transform=\"translate(18.6286 23.1579)\"><path class=\"edge\" d=\"M 0 0 V -23.1579 H -18.6286\"/><rect class=\"sym\" height=\"6\" width=\"6\" x=\"-3\" y=\"-3\"/><text class=\"lab\" transform=\"translate(0 11)\">3</text></g><path class=\"edge\" d=\"M 0 0 V -4.7448 H -27.9429\"/><circle class=\"sym\" cx=\"0\" cy=\"0\" r=\"3\"/><text class=\"lab rgt\" transform=\"translate(3 -7.0)\">6</text></g><path class=\"edge\" d=\"M 0 0 V -10.4983 H 41.9143\"/><circle class=\"sym\" cx=\"0\" cy=\"0\" r=\"3\"/><text class=\"lab lft\" transform=\"translate(-3 -7.0)\">7</text></g><circle class=\"sym\" cx=\"0\" cy=\"0\" r=\"3\"/><text class=\"lab\" transform=\"translate(0 -11)\">8</text></g></g></g><g class=\"tree t3\" transform=\"translate(623.886 0)\"><g class=\"plotbox\"><g class=\"c2 node n12 p0 root\" transform=\"translate(108.486 26.8)\"><g class=\"a12 i1 leaf node n2 p0 sample\" transform=\"translate(41.9143 94.6)\"><path class=\"edge\" d=\"M 0 0 V -94.6 H -41.9143\"/><rect class=\"sym\" height=\"6\" width=\"6\" x=\"-3\" y=\"-3\"/><text class=\"lab\" transform=\"translate(0 11)\">2</text></g><g class=\"a12 c2 node n7 p0\" transform=\"translate(-41.9143 66.6973)\"><g class=\"a7 i0 leaf node n0 p0 sample\" transform=\"translate(-27.9429 27.9027)\"><path class=\"edge\" d=\"M 0 0 V -27.9027 H 27.9429\"/><rect class=\"sym\" height=\"6\" width=\"6\" x=\"-3\" y=\"-3\"/><text class=\"lab\" transform=\"translate(0 11)\">0</text></g><g class=\"a7 c2 node n6 p0\" transform=\"translate(27.9429 4.7448)\"><g class=\"a6 i0 leaf node n1 p0 sample\" transform=\"translate(-18.6286 23.1579)\"><path class=\"edge\" d=\"M 0 0 V -23.1579 H 18.6286\"/><rect class=\"sym\" height=\"6\" width=\"6\" x=\"-3\" y=\"-3\"/><text class=\"lab\" transform=\"translate(0 11)\">1</text></g><g class=\"a6 i1 leaf node n3 p0 sample\" transform=\"translate(18.6286 23.1579)\"><path class=\"edge\" d=\"M 0 0 V -23.1579 H -18.6286\"/><rect class=\"sym\" height=\"6\" width=\"6\" x=\"-3\" y=\"-3\"/><text class=\"lab\" transform=\"translate(0 11)\">3</text></g><path class=\"edge\" d=\"M 0 0 V -4.7448 H -27.9429\"/><circle class=\"sym\" cx=\"0\" cy=\"0\" r=\"3\"/><text class=\"lab rgt\" transform=\"translate(3 -7.0)\">6</text></g><path class=\"edge\" d=\"M 0 0 V -66.6973 H 41.9143\"/><circle class=\"sym\" cx=\"0\" cy=\"0\" r=\"3\"/><text class=\"lab lft\" transform=\"translate(-3 -7.0)\">7</text></g><circle class=\"sym\" cx=\"0\" cy=\"0\" r=\"3\"/><text class=\"lab\" transform=\"translate(0 -11)\">12</text></g></g></g><g class=\"tree t4\" transform=\"translate(812.914 0)\"><g class=\"plotbox\"><g class=\"c2 node n12 p0 root\" transform=\"translate(108.486 26.8)\"><g class=\"a12 i1 leaf node n2 p0 sample\" transform=\"translate(41.9143 94.6)\"><path class=\"edge\" d=\"M 0 0 V -94.6 H -41.9143\"/><rect class=\"sym\" height=\"6\" width=\"6\" x=\"-3\" y=\"-3\"/><text class=\"lab\" transform=\"translate(0 11)\">2</text></g><g class=\"a12 c2 node n10 p0\" transform=\"translate(-41.9143 19.9088)\"><g class=\"a10 i0 leaf node n0 p0 sample\" transform=\"translate(-27.9429 74.6912)\"><path class=\"edge\" d=\"M 0 0 V -74.6912 H 27.9429\"/><rect class=\"sym\" height=\"6\" width=\"6\" x=\"-3\" y=\"-3\"/><text class=\"lab\" transform=\"translate(0 11)\">0</text></g><g class=\"a10 c2 node n6 p0\" transform=\"translate(27.9429 51.5334)\"><g class=\"a6 i0 leaf node n1 p0 sample\" transform=\"translate(-18.6286 23.1579)\"><path class=\"edge\" d=\"M 0 0 V -23.1579 H 18.6286\"/><rect class=\"sym\" height=\"6\" width=\"6\" x=\"-3\" y=\"-3\"/><text class=\"lab\" transform=\"translate(0 11)\">1</text></g><g class=\"a6 i1 leaf node n3 p0 sample\" transform=\"translate(18.6286 23.1579)\"><path class=\"edge\" d=\"M 0 0 V -23.1579 H -18.6286\"/><rect class=\"sym\" height=\"6\" width=\"6\" x=\"-3\" y=\"-3\"/><text class=\"lab\" transform=\"translate(0 11)\">3</text></g><path class=\"edge\" d=\"M 0 0 V -51.5334 H -27.9429\"/><circle class=\"sym\" cx=\"0\" cy=\"0\" r=\"3\"/><text class=\"lab rgt\" transform=\"translate(3 -7.0)\">6</text></g><path class=\"edge\" d=\"M 0 0 V -19.9088 H 41.9143\"/><circle class=\"sym\" cx=\"0\" cy=\"0\" r=\"3\"/><text class=\"lab lft\" transform=\"translate(-3 -7.0)\">10</text></g><circle class=\"sym\" cx=\"0\" cy=\"0\" r=\"3\"/><text class=\"lab\" transform=\"translate(0 -11)\">12</text></g></g></g><g class=\"tree t5\" transform=\"translate(1001.94 0)\"><g class=\"plotbox\"><g class=\"c2 node n10 p0 root\" transform=\"translate(80.5429 46.7088)\"><g class=\"a10 i0 leaf node n0 p0 sample\" transform=\"translate(-41.9143 74.6912)\"><path class=\"edge\" d=\"M 0 0 V -74.6912 H 41.9143\"/><rect class=\"sym\" height=\"6\" width=\"6\" x=\"-3\" y=\"-3\"/><text class=\"lab\" transform=\"translate(0 11)\">0</text></g><g class=\"a10 c2 node n9 p0\" transform=\"translate(41.9143 3.84392)\"><g class=\"a9 i1 leaf node n2 p0 sample\" transform=\"translate(27.9429 70.8473)\"><path class=\"edge\" d=\"M 0 0 V -70.8473 H -27.9429\"/><rect class=\"sym\" height=\"6\" width=\"6\" x=\"-3\" y=\"-3\"/><text class=\"lab\" transform=\"translate(0 11)\">2</text></g><g class=\"a9 c2 node n6 p0\" transform=\"translate(-27.9429 47.6894)\"><g class=\"a6 i0 leaf node n1 p0 sample\" transform=\"translate(-18.6286 23.1579)\"><path class=\"edge\" d=\"M 0 0 V -23.1579 H 18.6286\"/><rect class=\"sym\" height=\"6\" width=\"6\" x=\"-3\" y=\"-3\"/><text class=\"lab\" transform=\"translate(0 11)\">1</text></g><g class=\"a6 i1 leaf node n3 p0 sample\" transform=\"translate(18.6286 23.1579)\"><path class=\"edge\" d=\"M 0 0 V -23.1579 H -18.6286\"/><rect class=\"sym\" height=\"6\" width=\"6\" x=\"-3\" y=\"-3\"/><text class=\"lab\" transform=\"translate(0 11)\">3</text></g><path class=\"edge\" d=\"M 0 0 V -47.6894 H 27.9429\"/><circle class=\"sym\" cx=\"0\" cy=\"0\" r=\"3\"/><text class=\"lab lft\" transform=\"translate(-3 -7.0)\">6</text></g><path class=\"edge\" d=\"M 0 0 V -3.84392 H -41.9143\"/><circle class=\"sym\" cx=\"0\" cy=\"0\" r=\"3\"/><text class=\"lab rgt\" transform=\"translate(3 -7.0)\">9</text></g><circle class=\"sym\" cx=\"0\" cy=\"0\" r=\"3\"/><text class=\"lab\" transform=\"translate(0 -11)\">10</text></g></g></g><g class=\"tree t6\" transform=\"translate(1190.97 0)\"><g class=\"plotbox\"><g class=\"c2 node n10 p0 root\" transform=\"translate(94.5143 46.7088)\"><g class=\"a10 c2 node n9 p0\" transform=\"translate(37.2571 3.84392)\"><g class=\"a9 i1 leaf node n2 p0 sample\" transform=\"translate(18.6286 70.8473)\"><path class=\"edge\" d=\"M 0 0 V -70.8473 H -18.6286\"/><rect class=\"sym\" height=\"6\" width=\"6\" x=\"-3\" y=\"-3\"/><text class=\"lab\" transform=\"translate(0 11)\">2</text></g><g class=\"a9 i0 leaf node n1 p0 sample\" transform=\"translate(-18.6286 70.8473)\"><path class=\"edge\" d=\"M 0 0 V -70.8473 H 18.6286\"/><rect class=\"sym\" height=\"6\" width=\"6\" x=\"-3\" y=\"-3\"/><text class=\"lab\" transform=\"translate(0 11)\">1</text></g><path class=\"edge\" d=\"M 0 0 V -3.84392 H -37.2571\"/><circle class=\"sym\" cx=\"0\" cy=\"0\" r=\"3\"/><text class=\"lab rgt\" transform=\"translate(3 -7.0)\">9</text></g><g class=\"a10 c2 node n4 p0\" transform=\"translate(-37.2571 70.3837)\"><g class=\"a4 i0 leaf node n0 p0 sample\" transform=\"translate(-18.6286 4.30751)\"><path class=\"edge\" d=\"M 0 0 V -4.30751 H 18.6286\"/><rect class=\"sym\" height=\"6\" width=\"6\" x=\"-3\" y=\"-3\"/><text class=\"lab\" transform=\"translate(0 11)\">0</text></g><g class=\"a4 i1 leaf node n3 p0 sample\" transform=\"translate(18.6286 4.30751)\"><path class=\"edge\" d=\"M 0 0 V -4.30751 H -18.6286\"/><rect class=\"sym\" height=\"6\" width=\"6\" x=\"-3\" y=\"-3\"/><text class=\"lab\" transform=\"translate(0 11)\">3</text></g><path class=\"edge\" d=\"M 0 0 V -70.3837 H 37.2571\"/><circle class=\"sym\" cx=\"0\" cy=\"0\" r=\"3\"/><text class=\"lab lft\" transform=\"translate(-3 -7.0)\">4</text></g><circle class=\"sym\" cx=\"0\" cy=\"0\" r=\"3\"/><text class=\"lab\" transform=\"translate(0 -11)\">10</text></g></g></g></g></g></svg>",
      "text/plain": [
       "<IPython.core.display.SVG object>"
      ]
     },
     "execution_count": 39,
     "metadata": {},
     "output_type": "execute_result"
    }
   ],
   "source": [
    "ts = msprime.sim_ancestry(2,population_size=1000,sequence_length=100000,recombination_rate=1e-8)\n",
    "ts\n",
    "SVG(ts.draw_svg(y_axis=True))\n"
   ]
  },
  {
   "cell_type": "code",
   "execution_count": 17,
   "metadata": {},
   "outputs": [
    {
     "name": "stdout",
     "output_type": "stream",
     "text": [
      "╔══╤═════╤════════╤═══════╤════════╗\n",
      "║id│flags│location│parents│metadata║\n",
      "╠══╪═════╪════════╪═══════╪════════╣\n",
      "║0 │    0│        │       │     b''║\n",
      "║1 │    0│        │       │     b''║\n",
      "╚══╧═════╧════════╧═══════╧════════╝\n",
      "\n",
      "╔══╤═════╤══════════╤══════════╤══════════╤════════╗\n",
      "║id│flags│population│individual│time      │metadata║\n",
      "╠══╪═════╪══════════╪══════════╪══════════╪════════╣\n",
      "║0 │    1│         0│         0│0.00000000│     b''║\n",
      "║1 │    1│         0│         0│0.00000000│     b''║\n",
      "║2 │    1│         0│         1│0.00000000│     b''║\n",
      "║3 │    1│         0│         1│0.00000000│     b''║\n",
      "║4 │    0│         0│        -1│0.03040664│     b''║\n",
      "║5 │    0│         0│        -1│0.32662100│     b''║\n",
      "║6 │    0│         0│        -1│0.69625455│     b''║\n",
      "╚══╧═════╧══════════╧══════════╧══════════╧════════╝\n",
      "\n"
     ]
    }
   ],
   "source": [
    "print(ts.tables.individuals)\n",
    "print(ts.tables.nodes)\n"
   ]
  },
  {
   "cell_type": "code",
   "execution_count": 4,
   "metadata": {},
   "outputs": [
    {
     "data": {
      "text/html": [
       "\n",
       "            <div>\n",
       "              <style>\n",
       "                .tskit-table thead tr th {text-align: left;padding: 0.5em 0.5em;}\n",
       "                .tskit-table tbody tr td {padding: 0.5em 0.5em;}\n",
       "                .tskit-table tbody tr td:first-of-type {text-align: left;}\n",
       "                .tskit-details-label {vertical-align: top; padding-right:5px;}\n",
       "                .tskit-table-set {display: inline-flex;flex-wrap: wrap;margin: -12px 0 0 -12px;width: calc(100% + 12px);}\n",
       "                .tskit-table-set-table {margin: 12px 0 0 12px;}\n",
       "                details {display: inline-block;}\n",
       "                summary {cursor: pointer; outline: 0; display: list-item;}\n",
       "              </style>\n",
       "              <div class=\"tskit-table-set\">\n",
       "                <div class=\"tskit-table-set-table\">\n",
       "                  <table class=\"tskit-table\">\n",
       "                    <thead>\n",
       "                      <tr>\n",
       "                        <th style=\"padding:0;line-height:21px;\">\n",
       "                          <img style=\"height: 32px;display: inline-block;padding: 3px 5px 3px 0;\" src=\"https://raw.githubusercontent.com/tskit-dev/administrative/main/tskit_logo.svg\"/>\n",
       "                          <a target=\"_blank\" href=\"https://tskit.readthedocs.io/en/latest/python-api.html#the-treesequence-class\"> Tree Sequence </a>\n",
       "                        </th>\n",
       "                      </tr>\n",
       "                    </thead>\n",
       "                    <tbody>\n",
       "                      <tr><td>Trees</td><td>1</td></tr>\n",
       "                      <tr><td>Sequence Length</td><td>1.0</td></tr>\n",
       "                      <tr><td>Sample Nodes</td><td>12</td></tr>\n",
       "                      <tr><td>Total Size</td><td>5.1 KiB</td></tr>\n",
       "                      <tr>\n",
       "                        <td>Metadata</td><td style=\"text-align: left;\">No Metadata</td></tr>\n",
       "                    </tbody>\n",
       "                  </table>\n",
       "                </div>\n",
       "                <div class=\"tskit-table-set-table\">\n",
       "                  <table class=\"tskit-table\">\n",
       "                    <thead>\n",
       "                      <tr>\n",
       "                        <th style=\"line-height:21px;\">Table</th>\n",
       "                        <th>Rows</th>\n",
       "                        <th>Size</th>\n",
       "                        <th>Has Metadata</th>\n",
       "                      </tr>\n",
       "                    </thead>\n",
       "                    <tbody>\n",
       "                    \n",
       "                  <tr>\n",
       "                    <td>Edges</td>\n",
       "                      <td>22</td>\n",
       "                      <td>620 Bytes</td>\n",
       "                      <td style=\"text-align: center;\">\n",
       "                        \n",
       "                      </td>\n",
       "                    </tr>\n",
       "                \n",
       "                  <tr>\n",
       "                    <td>Individuals</td>\n",
       "                      <td>6</td>\n",
       "                      <td>108 Bytes</td>\n",
       "                      <td style=\"text-align: center;\">\n",
       "                        \n",
       "                      </td>\n",
       "                    </tr>\n",
       "                \n",
       "                  <tr>\n",
       "                    <td>Migrations</td>\n",
       "                      <td>0</td>\n",
       "                      <td>4 Bytes</td>\n",
       "                      <td style=\"text-align: center;\">\n",
       "                        \n",
       "                      </td>\n",
       "                    </tr>\n",
       "                \n",
       "                  <tr>\n",
       "                    <td>Mutations</td>\n",
       "                      <td>0</td>\n",
       "                      <td>8 Bytes</td>\n",
       "                      <td style=\"text-align: center;\">\n",
       "                        \n",
       "                      </td>\n",
       "                    </tr>\n",
       "                \n",
       "                  <tr>\n",
       "                    <td>Nodes</td>\n",
       "                      <td>23</td>\n",
       "                      <td>556 Bytes</td>\n",
       "                      <td style=\"text-align: center;\">\n",
       "                        \n",
       "                      </td>\n",
       "                    </tr>\n",
       "                \n",
       "                  <tr>\n",
       "                    <td>Populations</td>\n",
       "                      <td>10</td>\n",
       "                      <td>549 Bytes</td>\n",
       "                      <td style=\"text-align: center;\">\n",
       "                        ✅\n",
       "                      </td>\n",
       "                    </tr>\n",
       "                \n",
       "                  <tr>\n",
       "                    <td>Provenances</td>\n",
       "                      <td>1</td>\n",
       "                      <td>3.2 KiB</td>\n",
       "                      <td style=\"text-align: center;\">\n",
       "                        \n",
       "                      </td>\n",
       "                    </tr>\n",
       "                \n",
       "                  <tr>\n",
       "                    <td>Sites</td>\n",
       "                      <td>0</td>\n",
       "                      <td>8 Bytes</td>\n",
       "                      <td style=\"text-align: center;\">\n",
       "                        \n",
       "                      </td>\n",
       "                    </tr>\n",
       "                \n",
       "                    </tbody>\n",
       "                  </table>\n",
       "                </div>\n",
       "              </div>\n",
       "            </div>\n",
       "            "
      ],
      "text/plain": [
       "<tskit.trees.TreeSequence at 0x25597d1a310>"
      ]
     },
     "execution_count": 4,
     "metadata": {},
     "output_type": "execute_result"
    }
   ],
   "source": [
    "N = 10\n",
    "demography = msprime.Demography.stepping_stone_model(\n",
    "    [100] * N,\n",
    "    migration_rate=0.1,\n",
    "    boundaries=True)\n",
    "ts = msprime.sim_ancestry({0: 3, N - 1: 3}, demography=demography)\n",
    "ts"
   ]
  },
  {
   "cell_type": "code",
   "execution_count": 18,
   "metadata": {},
   "outputs": [
    {
     "data": {
      "image/svg+xml": "<svg xmlns=\"http://www.w3.org/2000/svg\" xmlns:ev=\"http://www.w3.org/2001/xml-events\" xmlns:xlink=\"http://www.w3.org/1999/xlink\" baseProfile=\"full\" height=\"200\" version=\"1.1\" width=\"200\"><defs><style type=\"text/css\"><![CDATA[.background path {fill: #808080; fill-opacity: 0}.background path:nth-child(odd) {fill-opacity: .1}.axes {font-size: 14px}.x-axis .tick .lab {font-weight: bold; dominant-baseline: hanging}.axes, .tree {font-size: 14px; text-anchor: middle}.axes line, .edge {stroke: black; fill: none}.y-axis .grid {stroke: #FAFAFA}.node > .sym {fill: black; stroke: none}.site > .sym {stroke: black}.mut text {fill: red; font-style: italic}.mut.extra text {fill: hotpink}.mut line {fill: none; stroke: none}.mut .sym {fill: none; stroke: red}.mut.extra .sym {stroke: hotpink}.node .mut .sym {stroke-width: 1.5px}.tree text, .tree-sequence text {dominant-baseline: central}.plotbox .lab.lft {text-anchor: end}.plotbox .lab.rgt {text-anchor: start}]]></style></defs><g class=\"tree-sequence\"><g class=\"background\"><path d=\"M56.8,0 l123.2,0 l0,138.2 l0,25 l0,5 l-123.2,0 l0,-5 l0,-25 l0,-138.2z\"/></g><g class=\"axes\"><g class=\"x-axis\"><g transform=\"translate(118.4,200)\"><text class=\"lab\" text-anchor=\"middle\" transform=\"translate(0 -11)\">Genome position</text></g><line x1=\"56.8\" x2=\"180\" y1=\"163.2\" y2=\"163.2\"/><g class=\"ticks\"><g class=\"tick\" transform=\"translate(56.8 163.2)\"><line x1=\"0\" x2=\"0\" y1=\"0\" y2=\"5\"/><g transform=\"translate(0,6)\"><text class=\"lab\">0</text></g></g><g class=\"tick\" transform=\"translate(180 163.2)\"><line x1=\"0\" x2=\"0\" y1=\"0\" y2=\"5\"/><g transform=\"translate(0,6)\"><text class=\"lab\">1</text></g></g></g></g><g class=\"y-axis\"><g transform=\"translate(0,65.7)\"><text class=\"lab\" text-anchor=\"middle\" transform=\"translate(11) rotate(-90)\">Time</text></g><line x1=\"56.8\" x2=\"56.8\" y1=\"121.4\" y2=\"10\"/><g class=\"ticks\"><g class=\"tick\" transform=\"translate(56.8 121.4)\"><line x1=\"0\" x2=\"-5\" y1=\"0\" y2=\"0\"/><g transform=\"translate(-6,0)\"><text class=\"lab\" text-anchor=\"end\">0.00</text></g></g><g class=\"tick\" transform=\"translate(56.8 108.704)\"><line x1=\"0\" x2=\"-5\" y1=\"0\" y2=\"0\"/><g transform=\"translate(-6,0)\"><text class=\"lab\" text-anchor=\"end\">50.00</text></g></g><g class=\"tick\" transform=\"translate(56.8 95.2261)\"><line x1=\"0\" x2=\"-5\" y1=\"0\" y2=\"0\"/><g transform=\"translate(-6,0)\"><text class=\"lab\" text-anchor=\"end\">103.08</text></g></g><g class=\"tick\" transform=\"translate(56.8 72.9357)\"><line x1=\"0\" x2=\"-5\" y1=\"0\" y2=\"0\"/><g transform=\"translate(-6,0)\"><text class=\"lab\" text-anchor=\"end\">190.86</text></g></g><g class=\"tick\" transform=\"translate(56.8 26.8)\"><line x1=\"0\" x2=\"-5\" y1=\"0\" y2=\"0\"/><g transform=\"translate(-6,0)\"><text class=\"lab\" text-anchor=\"end\">372.55</text></g></g></g></g></g><g class=\"plotbox trees\"><g class=\"tree t0\" transform=\"translate(56.8 0)\"><g class=\"plotbox\"><g class=\"c2 node n6 p0 root\" transform=\"translate(61.6 26.8)\"><g class=\"a6 c2 node n4 p0\" transform=\"translate(20.8 68.4261)\"><g class=\"a4 i0 leaf node n1 p0 sample\" transform=\"translate(-10.4 26.1739)\"><path class=\"edge\" d=\"M 0 0 V -26.1739 H 10.4\"/><rect class=\"sym\" height=\"6\" width=\"6\" x=\"-3\" y=\"-3\"/><text class=\"lab\" transform=\"translate(0 11)\">1</text></g><g class=\"a4 i1 leaf node n2 p0 sample\" transform=\"translate(10.4 13.4776)\"><path class=\"edge\" d=\"M 0 0 V -13.4776 H -10.4\"/><rect class=\"sym\" height=\"6\" width=\"6\" x=\"-3\" y=\"-3\"/><text class=\"lab\" transform=\"translate(0 11)\">2</text></g><path class=\"edge\" d=\"M 0 0 V -68.4261 H -20.8\"/><circle class=\"sym\" cx=\"0\" cy=\"0\" r=\"3\"/><text class=\"lab rgt\" transform=\"translate(3 -7.0)\">4</text></g><g class=\"a6 c2 node n5 p0\" transform=\"translate(-20.8 46.1357)\"><g class=\"a5 i0 leaf node n0 p0 sample\" transform=\"translate(-10.4 48.4643)\"><path class=\"edge\" d=\"M 0 0 V -48.4643 H 10.4\"/><rect class=\"sym\" height=\"6\" width=\"6\" x=\"-3\" y=\"-3\"/><text class=\"lab\" transform=\"translate(0 11)\">0</text></g><g class=\"a5 i1 leaf node n3 p0 sample\" transform=\"translate(10.4 35.768)\"><path class=\"edge\" d=\"M 0 0 V -35.768 H -10.4\"/><rect class=\"sym\" height=\"6\" width=\"6\" x=\"-3\" y=\"-3\"/><text class=\"lab\" transform=\"translate(0 11)\">3</text></g><path class=\"edge\" d=\"M 0 0 V -46.1357 H 20.8\"/><circle class=\"sym\" cx=\"0\" cy=\"0\" r=\"3\"/><text class=\"lab lft\" transform=\"translate(-3 -7.0)\">5</text></g><circle class=\"sym\" cx=\"0\" cy=\"0\" r=\"3\"/><text class=\"lab\" transform=\"translate(0 -11)\">6</text></g></g></g></g></g></svg>",
      "text/plain": [
       "<IPython.core.display.SVG object>"
      ]
     },
     "execution_count": 18,
     "metadata": {},
     "output_type": "execute_result"
    }
   ],
   "source": [
    "ts = msprime.sim_ancestry(\n",
    "    samples = [\n",
    "        msprime.SampleSet(1),\n",
    "        msprime.SampleSet(1, time=50)\n",
    "    ],\n",
    "    population_size=100,\n",
    "    random_seed=42\n",
    ")\n",
    "SVG(ts.draw_svg(y_axis=True))"
   ]
  },
  {
   "cell_type": "code",
   "execution_count": 12,
   "metadata": {},
   "outputs": [
    {
     "name": "stdout",
     "output_type": "stream",
     "text": [
      "╔══╤═════╤════════╤═══════╤════════╗\n",
      "║id│flags│location│parents│metadata║\n",
      "╠══╪═════╪════════╪═══════╪════════╣\n",
      "║0 │    0│        │       │     b''║\n",
      "║1 │    0│        │       │     b''║\n",
      "║2 │    0│        │       │     b''║\n",
      "╚══╧═════╧════════╧═══════╧════════╝\n",
      "\n",
      "╔══╤═════╤══════════╤══════════╤══════════╤════════╗\n",
      "║id│flags│population│individual│time      │metadata║\n",
      "╠══╪═════╪══════════╪══════════╪══════════╪════════╣\n",
      "║0 │    1│         1│         0│0.00000000│     b''║\n",
      "║1 │    1│         1│         0│0.00000000│     b''║\n",
      "║2 │    1│         0│         1│0.00000000│     b''║\n",
      "║3 │    1│         0│         1│0.00000000│     b''║\n",
      "║4 │    1│         0│         2│0.00000000│     b''║\n",
      "║5 │    1│         0│         2│0.00000000│     b''║\n",
      "║6 │    0│         1│        -1│0.68529735│     b''║\n",
      "║7 │    0│         0│        -1│1.00000000│     b''║\n",
      "║8 │    0│         1│        -1│1.00000000│     b''║\n",
      "║9 │    0│         1│        -1│1.00000000│     b''║\n",
      "║10│    0│         1│        -1│1.00000000│     b''║\n",
      "║11│    0│         1│        -1│1.00000000│     b''║\n",
      "╚══╧═════╧══════════╧══════════╧══════════╧════════╝\n",
      "\n"
     ]
    }
   ],
   "source": [
    "demography = msprime.Demography.island_model([10, 10], migration_rate=1)\n",
    "ts = msprime.sim_ancestry(\n",
    "    samples=[\n",
    "        msprime.SampleSet(1, population=1),\n",
    "        msprime.SampleSet(2, population=0)],\n",
    "    demography=demography,\n",
    "    start_time=0,\n",
    "    end_time=1)\n",
    "print(ts.tables.individuals)\n",
    "print(ts.tables.nodes)"
   ]
  }
 ],
 "metadata": {
  "interpreter": {
   "hash": "ce1d0b64f12af1952f95e2794b02a58fc49bedf30240c1dc22d4adae73e961c8"
  },
  "kernelspec": {
   "display_name": "Python 3.8.5 64-bit ('base': conda)",
   "name": "python3"
  },
  "language_info": {
   "codemirror_mode": {
    "name": "ipython",
    "version": 3
   },
   "file_extension": ".py",
   "mimetype": "text/x-python",
   "name": "python",
   "nbconvert_exporter": "python",
   "pygments_lexer": "ipython3",
   "version": "3.8.5"
  },
  "orig_nbformat": 4
 },
 "nbformat": 4,
 "nbformat_minor": 2
}
